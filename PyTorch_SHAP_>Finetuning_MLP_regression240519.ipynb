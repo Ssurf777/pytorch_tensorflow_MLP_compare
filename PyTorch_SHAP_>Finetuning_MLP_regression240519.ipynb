{
  "nbformat": 4,
  "nbformat_minor": 0,
  "metadata": {
    "colab": {
      "provenance": [],
      "gpuType": "T4",
      "include_colab_link": true
    },
    "kernelspec": {
      "name": "python3",
      "display_name": "Python 3"
    },
    "language_info": {
      "name": "python"
    },
    "accelerator": "GPU",
    "widgets": {
      "application/vnd.jupyter.widget-state+json": {
        "270b470683744b98a1461319dc0d9058": {
          "model_module": "@jupyter-widgets/controls",
          "model_name": "HBoxModel",
          "model_module_version": "1.5.0",
          "state": {
            "_dom_classes": [],
            "_model_module": "@jupyter-widgets/controls",
            "_model_module_version": "1.5.0",
            "_model_name": "HBoxModel",
            "_view_count": null,
            "_view_module": "@jupyter-widgets/controls",
            "_view_module_version": "1.5.0",
            "_view_name": "HBoxView",
            "box_style": "",
            "children": [
              "IPY_MODEL_08be54d70b634fe58db6819feea7a931",
              "IPY_MODEL_69f22d02e9044793b9f0dc235575e0cd",
              "IPY_MODEL_407f3704222e4fef9fd9d15bbc010595"
            ],
            "layout": "IPY_MODEL_bbfd3479400348baaf7bb277da92bbf0"
          }
        },
        "08be54d70b634fe58db6819feea7a931": {
          "model_module": "@jupyter-widgets/controls",
          "model_name": "HTMLModel",
          "model_module_version": "1.5.0",
          "state": {
            "_dom_classes": [],
            "_model_module": "@jupyter-widgets/controls",
            "_model_module_version": "1.5.0",
            "_model_name": "HTMLModel",
            "_view_count": null,
            "_view_module": "@jupyter-widgets/controls",
            "_view_module_version": "1.5.0",
            "_view_name": "HTMLView",
            "description": "",
            "description_tooltip": null,
            "layout": "IPY_MODEL_0d76b6080efc4471bf133ce131e57e9c",
            "placeholder": "​",
            "style": "IPY_MODEL_68c2092665af44c69c9abc8d44a0b8d1",
            "value": "100%"
          }
        },
        "69f22d02e9044793b9f0dc235575e0cd": {
          "model_module": "@jupyter-widgets/controls",
          "model_name": "FloatProgressModel",
          "model_module_version": "1.5.0",
          "state": {
            "_dom_classes": [],
            "_model_module": "@jupyter-widgets/controls",
            "_model_module_version": "1.5.0",
            "_model_name": "FloatProgressModel",
            "_view_count": null,
            "_view_module": "@jupyter-widgets/controls",
            "_view_module_version": "1.5.0",
            "_view_name": "ProgressView",
            "bar_style": "success",
            "description": "",
            "description_tooltip": null,
            "layout": "IPY_MODEL_1a63040f31e24e8d8d503da78debe246",
            "max": 100,
            "min": 0,
            "orientation": "horizontal",
            "style": "IPY_MODEL_6700894a3f2846439bb1da9e14c38daf",
            "value": 100
          }
        },
        "407f3704222e4fef9fd9d15bbc010595": {
          "model_module": "@jupyter-widgets/controls",
          "model_name": "HTMLModel",
          "model_module_version": "1.5.0",
          "state": {
            "_dom_classes": [],
            "_model_module": "@jupyter-widgets/controls",
            "_model_module_version": "1.5.0",
            "_model_name": "HTMLModel",
            "_view_count": null,
            "_view_module": "@jupyter-widgets/controls",
            "_view_module_version": "1.5.0",
            "_view_name": "HTMLView",
            "description": "",
            "description_tooltip": null,
            "layout": "IPY_MODEL_b78607b1f29145d3b62e3b675ed0f383",
            "placeholder": "​",
            "style": "IPY_MODEL_2e9a23b17a7f4febbd27dd277e22bcd0",
            "value": " 100/100 [00:20&lt;00:00,  5.64it/s]"
          }
        },
        "bbfd3479400348baaf7bb277da92bbf0": {
          "model_module": "@jupyter-widgets/base",
          "model_name": "LayoutModel",
          "model_module_version": "1.2.0",
          "state": {
            "_model_module": "@jupyter-widgets/base",
            "_model_module_version": "1.2.0",
            "_model_name": "LayoutModel",
            "_view_count": null,
            "_view_module": "@jupyter-widgets/base",
            "_view_module_version": "1.2.0",
            "_view_name": "LayoutView",
            "align_content": null,
            "align_items": null,
            "align_self": null,
            "border": null,
            "bottom": null,
            "display": null,
            "flex": null,
            "flex_flow": null,
            "grid_area": null,
            "grid_auto_columns": null,
            "grid_auto_flow": null,
            "grid_auto_rows": null,
            "grid_column": null,
            "grid_gap": null,
            "grid_row": null,
            "grid_template_areas": null,
            "grid_template_columns": null,
            "grid_template_rows": null,
            "height": null,
            "justify_content": null,
            "justify_items": null,
            "left": null,
            "margin": null,
            "max_height": null,
            "max_width": null,
            "min_height": null,
            "min_width": null,
            "object_fit": null,
            "object_position": null,
            "order": null,
            "overflow": null,
            "overflow_x": null,
            "overflow_y": null,
            "padding": null,
            "right": null,
            "top": null,
            "visibility": null,
            "width": null
          }
        },
        "0d76b6080efc4471bf133ce131e57e9c": {
          "model_module": "@jupyter-widgets/base",
          "model_name": "LayoutModel",
          "model_module_version": "1.2.0",
          "state": {
            "_model_module": "@jupyter-widgets/base",
            "_model_module_version": "1.2.0",
            "_model_name": "LayoutModel",
            "_view_count": null,
            "_view_module": "@jupyter-widgets/base",
            "_view_module_version": "1.2.0",
            "_view_name": "LayoutView",
            "align_content": null,
            "align_items": null,
            "align_self": null,
            "border": null,
            "bottom": null,
            "display": null,
            "flex": null,
            "flex_flow": null,
            "grid_area": null,
            "grid_auto_columns": null,
            "grid_auto_flow": null,
            "grid_auto_rows": null,
            "grid_column": null,
            "grid_gap": null,
            "grid_row": null,
            "grid_template_areas": null,
            "grid_template_columns": null,
            "grid_template_rows": null,
            "height": null,
            "justify_content": null,
            "justify_items": null,
            "left": null,
            "margin": null,
            "max_height": null,
            "max_width": null,
            "min_height": null,
            "min_width": null,
            "object_fit": null,
            "object_position": null,
            "order": null,
            "overflow": null,
            "overflow_x": null,
            "overflow_y": null,
            "padding": null,
            "right": null,
            "top": null,
            "visibility": null,
            "width": null
          }
        },
        "68c2092665af44c69c9abc8d44a0b8d1": {
          "model_module": "@jupyter-widgets/controls",
          "model_name": "DescriptionStyleModel",
          "model_module_version": "1.5.0",
          "state": {
            "_model_module": "@jupyter-widgets/controls",
            "_model_module_version": "1.5.0",
            "_model_name": "DescriptionStyleModel",
            "_view_count": null,
            "_view_module": "@jupyter-widgets/base",
            "_view_module_version": "1.2.0",
            "_view_name": "StyleView",
            "description_width": ""
          }
        },
        "1a63040f31e24e8d8d503da78debe246": {
          "model_module": "@jupyter-widgets/base",
          "model_name": "LayoutModel",
          "model_module_version": "1.2.0",
          "state": {
            "_model_module": "@jupyter-widgets/base",
            "_model_module_version": "1.2.0",
            "_model_name": "LayoutModel",
            "_view_count": null,
            "_view_module": "@jupyter-widgets/base",
            "_view_module_version": "1.2.0",
            "_view_name": "LayoutView",
            "align_content": null,
            "align_items": null,
            "align_self": null,
            "border": null,
            "bottom": null,
            "display": null,
            "flex": null,
            "flex_flow": null,
            "grid_area": null,
            "grid_auto_columns": null,
            "grid_auto_flow": null,
            "grid_auto_rows": null,
            "grid_column": null,
            "grid_gap": null,
            "grid_row": null,
            "grid_template_areas": null,
            "grid_template_columns": null,
            "grid_template_rows": null,
            "height": null,
            "justify_content": null,
            "justify_items": null,
            "left": null,
            "margin": null,
            "max_height": null,
            "max_width": null,
            "min_height": null,
            "min_width": null,
            "object_fit": null,
            "object_position": null,
            "order": null,
            "overflow": null,
            "overflow_x": null,
            "overflow_y": null,
            "padding": null,
            "right": null,
            "top": null,
            "visibility": null,
            "width": null
          }
        },
        "6700894a3f2846439bb1da9e14c38daf": {
          "model_module": "@jupyter-widgets/controls",
          "model_name": "ProgressStyleModel",
          "model_module_version": "1.5.0",
          "state": {
            "_model_module": "@jupyter-widgets/controls",
            "_model_module_version": "1.5.0",
            "_model_name": "ProgressStyleModel",
            "_view_count": null,
            "_view_module": "@jupyter-widgets/base",
            "_view_module_version": "1.2.0",
            "_view_name": "StyleView",
            "bar_color": null,
            "description_width": ""
          }
        },
        "b78607b1f29145d3b62e3b675ed0f383": {
          "model_module": "@jupyter-widgets/base",
          "model_name": "LayoutModel",
          "model_module_version": "1.2.0",
          "state": {
            "_model_module": "@jupyter-widgets/base",
            "_model_module_version": "1.2.0",
            "_model_name": "LayoutModel",
            "_view_count": null,
            "_view_module": "@jupyter-widgets/base",
            "_view_module_version": "1.2.0",
            "_view_name": "LayoutView",
            "align_content": null,
            "align_items": null,
            "align_self": null,
            "border": null,
            "bottom": null,
            "display": null,
            "flex": null,
            "flex_flow": null,
            "grid_area": null,
            "grid_auto_columns": null,
            "grid_auto_flow": null,
            "grid_auto_rows": null,
            "grid_column": null,
            "grid_gap": null,
            "grid_row": null,
            "grid_template_areas": null,
            "grid_template_columns": null,
            "grid_template_rows": null,
            "height": null,
            "justify_content": null,
            "justify_items": null,
            "left": null,
            "margin": null,
            "max_height": null,
            "max_width": null,
            "min_height": null,
            "min_width": null,
            "object_fit": null,
            "object_position": null,
            "order": null,
            "overflow": null,
            "overflow_x": null,
            "overflow_y": null,
            "padding": null,
            "right": null,
            "top": null,
            "visibility": null,
            "width": null
          }
        },
        "2e9a23b17a7f4febbd27dd277e22bcd0": {
          "model_module": "@jupyter-widgets/controls",
          "model_name": "DescriptionStyleModel",
          "model_module_version": "1.5.0",
          "state": {
            "_model_module": "@jupyter-widgets/controls",
            "_model_module_version": "1.5.0",
            "_model_name": "DescriptionStyleModel",
            "_view_count": null,
            "_view_module": "@jupyter-widgets/base",
            "_view_module_version": "1.2.0",
            "_view_name": "StyleView",
            "description_width": ""
          }
        }
      }
    }
  },
  "cells": [
    {
      "cell_type": "markdown",
      "metadata": {
        "id": "view-in-github",
        "colab_type": "text"
      },
      "source": [
        "<a href=\"https://colab.research.google.com/github/Ssurf777/pytorch_tensorflow_MLP_compare/blob/main/PyTorch_SHAP_%3EFinetuning_MLP_regression240519.ipynb\" target=\"_parent\"><img src=\"https://colab.research.google.com/assets/colab-badge.svg\" alt=\"Open In Colab\"/></a>"
      ]
    },
    {
      "cell_type": "code",
      "source": [
        "from google.colab import drive\n",
        "drive.mount('/content/drive')"
      ],
      "metadata": {
        "colab": {
          "base_uri": "https://localhost:8080/"
        },
        "id": "tg_osUxds9aY",
        "outputId": "a6a771a6-b524-4202-dbab-e40a550322f6"
      },
      "execution_count": 23,
      "outputs": [
        {
          "output_type": "stream",
          "name": "stdout",
          "text": [
            "Drive already mounted at /content/drive; to attempt to forcibly remount, call drive.mount(\"/content/drive\", force_remount=True).\n"
          ]
        }
      ]
    },
    {
      "cell_type": "code",
      "source": [
        "# ライブラリのインポート\n",
        "import pandas as pd\n",
        "import numpy as np\n",
        "from sklearn.datasets import fetch_california_housing\n",
        "from sklearn.model_selection import train_test_split\n",
        "\n",
        "cali_housing = pd.read_csv(\"/content/drive/MyDrive/Colab Notebooks/california_housing.csv\")\n",
        "#print(cali_housing)\n",
        "#cali_housing = fetch_california_housing(as_frame=True)\n",
        "#x=cali_housing.data\n",
        "#y=cali_housing.target\n",
        "\n",
        "#df=cali_housing.frame\n",
        "df = cali_housing\n",
        "\n",
        "###外れ値処理(多変量連関図で確認しながら標準偏差で外れ値を処理)\n",
        "ar_std=df['AveRooms'].std()\n",
        "ab_std=df['AveBedrms'].std()\n",
        "pop_std=df['Population'].std()\n",
        "ao_std=df['AveOccup'].std()\n",
        "\n",
        "ar_mean=df['AveRooms'].mean()\n",
        "ab_mean=df['AveBedrms'].mean()\n",
        "pop_mean=df['Population'].mean()\n",
        "ao_mean=df['AveOccup'].mean()\n",
        "\n",
        "limit_low=ar_mean - 1*ab_std\n",
        "limit_high=ar_mean + 1*ab_std\n",
        "\n",
        "limit_low1=ab_mean - 1*ab_std\n",
        "limit_high1=ab_mean + 1*ab_std\n",
        "\n",
        "limit_low2=pop_mean - 1*pop_std\n",
        "limit_high2=pop_mean + 1*pop_std\n",
        "\n",
        "limit_low3=ao_mean - 0.5*ao_std\n",
        "limit_high3=ao_mean + 0.5*ao_std\n",
        "\n",
        "newdf=df.query('@limit_low < AveRooms < @limit_high')\n",
        "newdf1=newdf.query('@limit_low1 < AveBedrms < @limit_high1')\n",
        "newdf2=newdf1.query('@limit_low2 < Population < @limit_high2')\n",
        "newdf3=newdf2.query('@limit_low3 < AveOccup < @limit_high3')\n",
        "\n",
        "#正規化(Max-Min法)\n",
        "def minmax_norm(df):\n",
        "    return (df - df.min()) / ( df.max() - df.min())\n",
        "\n",
        "df_minmax_norm = minmax_norm(newdf3)\n",
        "#入力因子をxに代入\n",
        "x=df_minmax_norm.iloc[:,:8]\n",
        "#出力因子をyに代入\n",
        "y=df_minmax_norm.iloc[:,8:9]\n",
        "\n",
        "# 全体データから未知データを生成\n",
        "x_know,x_unknown,y_know,y_unknown=train_test_split(x,y,test_size=0.2)\n",
        "# 既知データから訓練データとテストデータに分割\n",
        "x_t,x_test,y_t,y_test=train_test_split(x_know,y_know,test_size=0.2)\n",
        "x_train,x_transfer,y_train,y_transfer=train_test_split(x_t,y_t,test_size=0.2)\n",
        "\n",
        "print(f\"unknown:{x_unknown.shape} test:{x_test.shape} train:{x_train.shape} x_transfer:{x_transfer.shape}\")\n",
        "print(f\"unknown:{y_unknown.shape} test:{y_test.shape} train:{y_train.shape} x_transfer:{y_transfer.shape}\")\n",
        "x_transfer2=x_transfer\n",
        "y_transfer2=y_transfer"
      ],
      "metadata": {
        "id": "-DrbTjrXAejr",
        "outputId": "5efe5a1b-3076-4da7-f53b-c37dc49c13aa",
        "colab": {
          "base_uri": "https://localhost:8080/"
        }
      },
      "execution_count": 24,
      "outputs": [
        {
          "output_type": "stream",
          "name": "stdout",
          "text": [
            "unknown:(1107, 8) test:(886, 8) train:(2832, 8) x_transfer:(708, 8)\n",
            "unknown:(1107, 1) test:(886, 1) train:(2832, 1) x_transfer:(708, 1)\n"
          ]
        }
      ]
    },
    {
      "cell_type": "code",
      "execution_count": 25,
      "metadata": {
        "id": "V6egTjKr_niR",
        "colab": {
          "base_uri": "https://localhost:8080/",
          "height": 796
        },
        "outputId": "72c6d66a-dbd8-444d-e6db-3501e6a2f7a6"
      },
      "outputs": [
        {
          "output_type": "stream",
          "name": "stdout",
          "text": [
            "Training - Epoch [10/100], Loss: 0.0339\n",
            "Validation - Epoch [10/100], Loss: 0.0421\n",
            "Training - Epoch [20/100], Loss: 0.0547\n",
            "Validation - Epoch [20/100], Loss: 0.0415\n",
            "Training - Epoch [30/100], Loss: 0.0175\n",
            "Validation - Epoch [30/100], Loss: 0.0377\n",
            "Training - Epoch [40/100], Loss: 0.0437\n",
            "Validation - Epoch [40/100], Loss: 0.0169\n",
            "Training - Epoch [50/100], Loss: 0.0109\n",
            "Validation - Epoch [50/100], Loss: 0.0135\n",
            "Training - Epoch [60/100], Loss: 0.0045\n",
            "Validation - Epoch [60/100], Loss: 0.0130\n",
            "Training - Epoch [70/100], Loss: 0.0036\n",
            "Validation - Epoch [70/100], Loss: 0.0130\n",
            "Training - Epoch [80/100], Loss: 0.0053\n",
            "Validation - Epoch [80/100], Loss: 0.0134\n",
            "Training - Epoch [90/100], Loss: 0.0286\n",
            "Validation - Epoch [90/100], Loss: 0.0144\n",
            "Training - Epoch [100/100], Loss: 0.0014\n",
            "Validation - Epoch [100/100], Loss: 0.0130\n"
          ]
        },
        {
          "output_type": "display_data",
          "data": {
            "text/plain": [
              "<Figure size 640x480 with 1 Axes>"
            ],
            "image/png": "[encoded data removed]"
          },
          "metadata": {}
        }
      ],
      "source": [
        "import torch\n",
        "import torch.nn as nn\n",
        "import torch.optim as optim\n",
        "import numpy as np\n",
        "import pandas as pd\n",
        "from torch.utils.data import DataLoader, TensorDataset\n",
        "import matplotlib.pyplot as plt\n",
        "from sklearn.metrics import mean_squared_error\n",
        "\n",
        "# ランダムシードの設定\n",
        "fix_seed = 2024\n",
        "np.random.seed(fix_seed)\n",
        "torch.manual_seed(fix_seed)\n",
        "\n",
        "\n",
        "# データをPyTorchのTensorに変換\n",
        "train_x = torch.FloatTensor(x_train.values)\n",
        "train_y = torch.FloatTensor(y_train.values)\n",
        "\n",
        "val_x = torch.FloatTensor(x_test.values)\n",
        "val_y = torch.FloatTensor(y_test.values)\n",
        "\n",
        "# GPUが利用可能ならGPUを使う\n",
        "device = torch.device(\"cuda\" if torch.cuda.is_available() else \"cpu\")\n",
        "\n",
        "# データセットとデータローダーの作成\n",
        "dataset = TensorDataset(train_x, train_y)\n",
        "dataloader = DataLoader(dataset, batch_size=10, shuffle=True)\n",
        "valdataset = TensorDataset(val_x, val_y)\n",
        "valdataloader = DataLoader(valdataset, batch_size=10, shuffle=True)\n",
        "\n",
        "\n",
        "\n",
        "\n",
        "\n",
        "# モデルの定義\n",
        "class MLP(nn.Module):\n",
        "    def __init__(self):\n",
        "        super().__init__()\n",
        "        self.regression = nn.Sequential(\n",
        "            nn.Linear(8, 128),\n",
        "            nn.ReLU(inplace=True),\n",
        "            nn.Linear(128, 64),\n",
        "            nn.ReLU(inplace=True),\n",
        "            nn.Linear(64, 32),\n",
        "            nn.ReLU(inplace=True),\n",
        "            nn.Linear(32, 16),\n",
        "            nn.ReLU(inplace=True),\n",
        "            nn.Linear(16, 8),\n",
        "            nn.ReLU(inplace=True),\n",
        "            nn.Linear(8, 1)\n",
        "        )\n",
        "\n",
        "    def forward(self, x):\n",
        "        output = self.regression(x)\n",
        "        return output\n",
        "\n",
        "# モデル、損失関数、オプティマイザの初期化\n",
        "model = MLP().to(device)\n",
        "criterion = nn.MSELoss()\n",
        "optimizer = optim.SGD(model.parameters(), lr=0.01)\n",
        "\n",
        "# トレーニングループ\n",
        "num_epochs = 100\n",
        "train_losses = []  # トレーニングの損失を保存するリスト\n",
        "val_losses = []    # 検証の損失を保存するリスト\n",
        "\n",
        "for epoch in range(num_epochs):\n",
        "    model.train()  # モデルをトレーニングモードに切り替え\n",
        "    for batch_x, batch_y in dataloader:\n",
        "        batch_x, batch_y = batch_x.to(device), batch_y.to(device)\n",
        "        optimizer.zero_grad()\n",
        "        output = model(batch_x)\n",
        "        loss = criterion(output, batch_y)\n",
        "        loss.backward()\n",
        "        optimizer.step()\n",
        "    train_losses.append(loss.item())\n",
        "\n",
        "    # 10エポックごとに損失を表示\n",
        "    if (epoch + 1) % 10 == 0:\n",
        "        print(f'Training - Epoch [{epoch+1}/{num_epochs}], Loss: {loss.item():.4f}')\n",
        "\n",
        "    # 検証ループ\n",
        "    model.eval()  # モデルを評価モードに切り替え\n",
        "    with torch.no_grad():\n",
        "        val_loss = 0\n",
        "        for val_batch_x, val_batch_y in valdataloader:\n",
        "            val_batch_x, val_batch_y = val_batch_x.to(device), val_batch_y.to(device)\n",
        "            val_output = model(val_batch_x)\n",
        "            val_loss += criterion(val_output, val_batch_y).item()\n",
        "        val_loss /= len(valdataloader)\n",
        "        val_losses.append(val_loss)\n",
        "\n",
        "        # 10エポックごとに検証の損失を表示\n",
        "        if (epoch + 1) % 10 == 0:\n",
        "            print(f'Validation - Epoch [{epoch+1}/{num_epochs}], Loss: {val_loss:.4f}')\n",
        "\n",
        "# TrainとValのLossをプロット\n",
        "plt.plot(train_losses, label='Training Loss')\n",
        "plt.plot(val_losses, label='Validation Loss')\n",
        "plt.xlabel('Epoch')\n",
        "plt.ylabel('Loss')\n",
        "plt.legend()\n",
        "plt.show()\n"
      ]
    },
    {
      "cell_type": "markdown",
      "source": [
        "### TIPS\n",
        "Loss関数にMAEを使用するとき\n",
        "~~~python\n",
        "criterion = nn.L1Loss() #MAE\n",
        "~~~\n",
        "\n",
        "Loss関数にRMSEを使用するとき\n",
        "~~~python\n",
        "class RMSELoss(nn.Module):\n",
        "    def __init__(self):\n",
        "        super(RMSELoss, self).__init__()\n",
        "        self.mse = nn.MSELoss()\n",
        "\n",
        "    def forward(self, yhat, y):\n",
        "        return torch.sqrt(self.mse(yhat, y))\n",
        "\n",
        "criterion = RMSELoss()\n",
        "~~~\n",
        "\n",
        "最適化アルゴリズムにAdamを使用するとき\n",
        "\n",
        "~~~python\n",
        "optimizer = optim.Adam(model.parameters(), lr=0.001)\n",
        "~~~\n"
      ],
      "metadata": {
        "id": "q598KsyqgZtg"
      }
    },
    {
      "cell_type": "markdown",
      "source": [
        "# 推論"
      ],
      "metadata": {
        "id": "aWJZOpiZhED8"
      }
    },
    {
      "cell_type": "code",
      "source": [
        "x_un = torch.FloatTensor(x_unknown.values)\n",
        "y_un = torch.FloatTensor(y_unknown.values)\n",
        "\n",
        "# モデルを評価モードに切り替え\n",
        "model.eval()\n",
        "\n",
        "# 予測\n",
        "x_un = x_un.to(device)\n",
        "predicted_output = model(x_un)\n",
        "pre_result = predicted_output.cpu().detach().numpy()\n",
        "\n",
        "# RMSEの計算\n",
        "rmse = np.sqrt(mean_squared_error(y_un, pre_result))\n",
        "print(f'RMSE: {rmse}')\n",
        "\n",
        "# 散布図のプロット\n",
        "plt.scatter(y_un, pre_result, alpha=0.5)\n",
        "plt.title('Scatter plot of Actual vs Predicted')\n",
        "plt.xlabel('Actual values')\n",
        "plt.ylabel('Predicted values')\n",
        "plt.show()"
      ],
      "metadata": {
        "id": "ze1J7tQvCec7",
        "colab": {
          "base_uri": "https://localhost:8080/",
          "height": 489
        },
        "outputId": "ea33f78f-0ddc-43eb-f7f6-2908ad588c57"
      },
      "execution_count": 26,
      "outputs": [
        {
          "output_type": "stream",
          "name": "stdout",
          "text": [
            "RMSE: 0.12409399449825287\n"
          ]
        },
        {
          "output_type": "display_data",
          "data": {
            "text/plain": [
              "<Figure size 640x480 with 1 Axes>"
            ],
            "image/png": "[encoded data removed]"
          },
          "metadata": {}
        }
      ]
    },
    {
      "cell_type": "code",
      "source": [
        "# Torch Script形式で保存\n",
        "model_scripted = torch.jit.script(model)\n",
        "model_scripted.save('model_scripted.pth')\n",
        "\n",
        "# Torch Script形式で読み込み\n",
        "model_from_scripted = torch.jit.load('model_scripted.pth',map_location=\"cpu\")"
      ],
      "metadata": {
        "id": "EiAcGx1BjAU9"
      },
      "execution_count": 27,
      "outputs": []
    },
    {
      "cell_type": "code",
      "source": [
        "# モデルの全パラメータを取得\n",
        "parameters = list(model_from_scripted.parameters())\n",
        "\n",
        "# パラメータを表示\n",
        "for i, param in enumerate(parameters):\n",
        "    print(f'Parameter {i}:')\n",
        "    print(param)"
      ],
      "metadata": {
        "colab": {
          "base_uri": "https://localhost:8080/"
        },
        "id": "PtQODODC1eiF",
        "outputId": "1ae5b634-6cc1-49b9-ffbf-aba6ecc49737"
      },
      "execution_count": 35,
      "outputs": [
        {
          "output_type": "stream",
          "name": "stdout",
          "text": [
            "Parameter 0:\n",
            "tensor([[ 0.0456,  0.2408,  0.3315,  ..., -0.1263, -0.2130,  0.0661],\n",
            "        [-0.0130,  0.1876, -0.2390,  ...,  0.1441,  0.3056, -0.0587],\n",
            "        [-0.1716,  0.2851,  0.1946,  ...,  0.3212,  0.1572,  0.1716],\n",
            "        ...,\n",
            "        [-0.1544, -0.2043, -0.2777,  ..., -0.1060, -0.2667,  0.1997],\n",
            "        [-0.1641,  0.1040, -0.1985,  ..., -0.0004, -0.1119, -0.0666],\n",
            "        [-0.3077,  0.0267, -0.1610,  ..., -0.3478,  0.1532,  0.0689]],\n",
            "       requires_grad=True)\n",
            "Parameter 1:\n",
            "tensor([ 0.2490, -0.0118,  0.0225, -0.0582,  0.0634, -0.1865, -0.0043,  0.0580,\n",
            "        -0.2535,  0.2575, -0.0627, -0.0720, -0.2371,  0.0513,  0.1920,  0.2199,\n",
            "         0.1475, -0.2908, -0.1939,  0.3309,  0.3533, -0.2418,  0.2575,  0.3115,\n",
            "        -0.2051, -0.0273, -0.0496,  0.2355, -0.0941, -0.0297, -0.3404,  0.1844,\n",
            "         0.3237, -0.2366, -0.2230,  0.2768, -0.0122, -0.2712,  0.1754, -0.2423,\n",
            "         0.3361,  0.2932, -0.0870, -0.1146, -0.2525,  0.2545, -0.2419, -0.2759,\n",
            "        -0.3180,  0.0166,  0.2544, -0.3458, -0.3266, -0.0707,  0.2774, -0.0855,\n",
            "        -0.1461,  0.3180,  0.0344, -0.1500, -0.1971, -0.2613,  0.1371, -0.0591,\n",
            "        -0.1342, -0.1983,  0.1972, -0.1507,  0.0864,  0.0571,  0.3244, -0.2277,\n",
            "        -0.1871,  0.2200, -0.0752, -0.2633,  0.0577, -0.0471, -0.1594, -0.2500,\n",
            "         0.0234,  0.1055, -0.1241,  0.1874,  0.3261, -0.1282, -0.0228, -0.2259,\n",
            "        -0.0902,  0.2360, -0.3008,  0.1795,  0.0505,  0.0488, -0.1706, -0.0569,\n",
            "         0.0034,  0.2528, -0.1333, -0.1564,  0.0508, -0.1199, -0.1414,  0.2439,\n",
            "         0.1066,  0.1712,  0.2124,  0.1491, -0.1804, -0.1266, -0.0989, -0.2576,\n",
            "        -0.1359,  0.1878, -0.0190, -0.2038, -0.3303, -0.3015, -0.3337, -0.1538,\n",
            "         0.2742,  0.2774, -0.1342,  0.2833,  0.0735, -0.3355, -0.2337, -0.0798],\n",
            "       requires_grad=True)\n",
            "Parameter 2:\n",
            "tensor([[-0.0388, -0.0040, -0.0308,  ...,  0.0288,  0.0230,  0.0014],\n",
            "        [-0.0469,  0.0483, -0.0274,  ..., -0.0720,  0.0150, -0.0159],\n",
            "        [-0.0878, -0.0263, -0.0555,  ...,  0.0801, -0.0124,  0.0171],\n",
            "        ...,\n",
            "        [-0.0065, -0.0686,  0.0868,  ...,  0.0111,  0.0642,  0.0787],\n",
            "        [ 0.0343,  0.0181,  0.0345,  ...,  0.0052, -0.0211,  0.0468],\n",
            "        [-0.0164, -0.0321, -0.0949,  ..., -0.0236, -0.0147, -0.0382]],\n",
            "       requires_grad=True)\n",
            "Parameter 3:\n",
            "tensor([ 0.0016, -0.0686, -0.0878, -0.0029,  0.0621, -0.0616,  0.0696, -0.0172,\n",
            "        -0.0592, -0.0461, -0.0779, -0.0807,  0.0260, -0.0604,  0.0222,  0.0191,\n",
            "         0.0256, -0.0075, -0.0003, -0.0490,  0.0702, -0.0475, -0.0763, -0.0834,\n",
            "         0.0038, -0.0063,  0.0623,  0.0077, -0.0822, -0.0533, -0.0318,  0.0279,\n",
            "         0.0086, -0.0465, -0.0110, -0.0818, -0.0423,  0.0488, -0.0200,  0.0525,\n",
            "         0.0453, -0.0860,  0.0613,  0.0264,  0.0708,  0.0354, -0.0641,  0.0833,\n",
            "         0.0084, -0.0360, -0.0463,  0.0719,  0.0898, -0.0304, -0.0766,  0.0564,\n",
            "        -0.0664,  0.0174, -0.0739,  0.0151, -0.0314, -0.0557,  0.0659,  0.0391],\n",
            "       requires_grad=True)\n",
            "Parameter 4:\n",
            "tensor([[-0.1005,  0.0465, -0.0907,  ..., -0.0260, -0.1079, -0.0055],\n",
            "        [ 0.0883, -0.0161,  0.0033,  ...,  0.0192,  0.0672,  0.0729],\n",
            "        [-0.0807, -0.0804,  0.0256,  ..., -0.1042,  0.0784, -0.1109],\n",
            "        ...,\n",
            "        [-0.1276,  0.0425,  0.1109,  ..., -0.1077,  0.0696,  0.0874],\n",
            "        [ 0.0793,  0.0290,  0.0973,  ..., -0.0469, -0.0688, -0.1060],\n",
            "        [ 0.0867,  0.0155,  0.0583,  ...,  0.0175, -0.0627, -0.1232]],\n",
            "       requires_grad=True)\n",
            "Parameter 5:\n",
            "tensor([-0.0812, -0.0557, -0.0227, -0.0693,  0.0475,  0.0327, -0.0555,  0.0156,\n",
            "        -0.0467, -0.0427, -0.0646, -0.0068,  0.0641,  0.0679,  0.0904, -0.0297,\n",
            "        -0.0339, -0.0316, -0.0236, -0.0583, -0.0115,  0.0350,  0.0457, -0.0344,\n",
            "        -0.0142, -0.1081,  0.0284,  0.0822, -0.0178,  0.0167,  0.0440, -0.0869],\n",
            "       requires_grad=True)\n",
            "Parameter 6:\n",
            "tensor([[-0.1658,  0.0818,  0.0814,  0.1431,  0.1319, -0.1525, -0.1668, -0.0320,\n",
            "          0.0043, -0.1432,  0.0146,  0.0867,  0.1698, -0.0295,  0.0531,  0.1598,\n",
            "          0.0512, -0.1133,  0.1221, -0.1029,  0.0532,  0.0616,  0.0246, -0.1678,\n",
            "         -0.0378,  0.1734, -0.1558, -0.1645, -0.0852, -0.0081, -0.1116,  0.0014],\n",
            "        [ 0.0458,  0.0769, -0.1320,  0.0239, -0.1213, -0.1683,  0.1424,  0.0295,\n",
            "         -0.0753, -0.1063, -0.0554, -0.0325, -0.0804,  0.0227, -0.0207,  0.1237,\n",
            "          0.1514, -0.0535,  0.0368, -0.1176,  0.0557, -0.0319, -0.0163,  0.0595,\n",
            "          0.1758,  0.1572, -0.1008, -0.0982,  0.0851,  0.0507,  0.0191, -0.0172],\n",
            "        [-0.1655, -0.0752, -0.0530, -0.1709, -0.1187,  0.1496, -0.1319, -0.1617,\n",
            "          0.1476, -0.1172, -0.1199,  0.0404,  0.0835, -0.0743, -0.0980,  0.0976,\n",
            "         -0.0070, -0.0180,  0.0238, -0.0423, -0.0773,  0.1410,  0.1396, -0.0798,\n",
            "          0.0539,  0.1729, -0.0184,  0.1696,  0.0113,  0.0706,  0.0984, -0.1267],\n",
            "        [-0.0949, -0.0237,  0.0665, -0.1710, -0.0456,  0.0904, -0.0601,  0.2457,\n",
            "          0.0375, -0.0971, -0.1441,  0.2622,  0.0781,  0.2947,  0.2744, -0.0371,\n",
            "         -0.0236, -0.0667, -0.1515, -0.0413,  0.0826, -0.2066, -0.1941, -0.0304,\n",
            "          0.1204,  0.1179,  0.0038,  0.1500, -0.0720,  0.2376,  0.1061, -0.1304],\n",
            "        [-0.1349,  0.1665,  0.0980,  0.0685, -0.1222,  0.1685, -0.0952,  0.0759,\n",
            "          0.1471, -0.1578,  0.0333,  0.0873, -0.1796, -0.1310, -0.0067, -0.0089,\n",
            "         -0.1394, -0.0003,  0.0076, -0.0828, -0.0576,  0.0918, -0.0886, -0.0964,\n",
            "         -0.0053, -0.0942, -0.0803, -0.1073, -0.1029,  0.1216, -0.0594, -0.0993],\n",
            "        [ 0.0483,  0.0543,  0.0485,  0.0623, -0.0873,  0.1129, -0.1015, -0.0459,\n",
            "          0.1701, -0.0312,  0.1135,  0.0374, -0.2514, -0.1730,  0.0630, -0.1393,\n",
            "         -0.1086, -0.1342, -0.1595,  0.0890, -0.1272,  0.1041,  0.1329,  0.1349,\n",
            "          0.0386, -0.0403,  0.1432, -0.1302, -0.0413, -0.1005, -0.1090, -0.1279],\n",
            "        [-0.0837,  0.1716,  0.1326,  0.1071,  0.1290,  0.0959, -0.0681,  0.2426,\n",
            "          0.1400,  0.1135,  0.1104,  0.1363,  0.2335,  0.1904,  0.3166, -0.0176,\n",
            "          0.0763, -0.0393,  0.0424,  0.1367,  0.2862,  0.0623,  0.0097, -0.1353,\n",
            "          0.0524,  0.0802, -0.0842,  0.1018,  0.1671,  0.1171,  0.0753,  0.1694],\n",
            "        [ 0.1060,  0.0268, -0.0747, -0.1062,  0.0535,  0.1313,  0.1498,  0.0971,\n",
            "          0.1221,  0.0505, -0.0481,  0.1962, -0.0788,  0.1770,  0.0872, -0.0345,\n",
            "         -0.0463, -0.1427,  0.1305,  0.0971,  0.1504, -0.0492, -0.0667,  0.0771,\n",
            "          0.0168,  0.1099, -0.1335, -0.1563,  0.0894,  0.0263,  0.1295, -0.0012],\n",
            "        [-0.1639,  0.0055,  0.0019, -0.0671,  0.0644, -0.0314, -0.0031,  0.1328,\n",
            "         -0.1320, -0.1606, -0.0569, -0.0458,  0.0577,  0.0178, -0.0135,  0.0071,\n",
            "         -0.0452,  0.0799,  0.0811,  0.1726,  0.1422,  0.0490, -0.1737, -0.1015,\n",
            "          0.1357,  0.0732,  0.0579, -0.1639, -0.1029,  0.1419, -0.0546, -0.0069],\n",
            "        [-0.0809, -0.1312, -0.1118,  0.1287, -0.0653, -0.0425, -0.1271,  0.0793,\n",
            "         -0.1116, -0.1503, -0.0076, -0.0402,  0.1567, -0.0708,  0.0075, -0.1553,\n",
            "          0.1517, -0.0273,  0.0752, -0.1597,  0.0671, -0.0200, -0.0729, -0.0469,\n",
            "         -0.0590, -0.0566, -0.1879,  0.1125, -0.0473,  0.0489, -0.1270, -0.0857],\n",
            "        [ 0.0100, -0.0794,  0.1471, -0.1565,  0.1019,  0.0868, -0.1164, -0.1069,\n",
            "          0.0193,  0.0468, -0.1249,  0.1349,  0.1239,  0.0377,  0.1423, -0.1678,\n",
            "         -0.0401,  0.0458,  0.1765,  0.0622, -0.0167, -0.0250,  0.1386,  0.1360,\n",
            "          0.1116, -0.0963, -0.1543, -0.0673,  0.0136,  0.0015, -0.0411, -0.0637],\n",
            "        [-0.1259, -0.1317,  0.1475,  0.0750, -0.0568,  0.2030,  0.1247, -0.0899,\n",
            "          0.1738,  0.1089, -0.1408,  0.0565,  0.1314,  0.2091,  0.2513, -0.1094,\n",
            "          0.0947, -0.0583, -0.1411,  0.1046,  0.0826, -0.1395, -0.0328,  0.1063,\n",
            "         -0.1638,  0.0018, -0.0237, -0.1333,  0.1573,  0.2042, -0.0088,  0.0207],\n",
            "        [-0.0789,  0.1700,  0.0014,  0.1354,  0.1622,  0.0222, -0.1275, -0.0679,\n",
            "         -0.0985,  0.0290, -0.0054, -0.1349, -0.0199, -0.1751, -0.0627, -0.0469,\n",
            "          0.0692,  0.0186,  0.1766,  0.1414,  0.1366,  0.0619, -0.1279,  0.0890,\n",
            "          0.0827, -0.1060, -0.0774,  0.0373, -0.0891, -0.0259,  0.1524,  0.1634],\n",
            "        [-0.0509,  0.0760, -0.1080,  0.0086,  0.0086,  0.0721, -0.1449, -0.1697,\n",
            "          0.0834,  0.1279, -0.1127, -0.0973, -0.0634, -0.1683, -0.0427,  0.0652,\n",
            "         -0.0688, -0.0639, -0.0039,  0.0583,  0.0688, -0.1088, -0.0138,  0.0858,\n",
            "         -0.0627, -0.0526, -0.0017, -0.1386,  0.0329,  0.1029,  0.1488, -0.0176],\n",
            "        [ 0.1521,  0.0707, -0.1310, -0.1467, -0.0876, -0.0652, -0.0543, -0.1005,\n",
            "         -0.0428,  0.1635,  0.0651, -0.0762,  0.1268,  0.0535,  0.1628, -0.0655,\n",
            "          0.1597, -0.0550,  0.0742,  0.1204, -0.0891, -0.0826, -0.0646,  0.0588,\n",
            "         -0.0656, -0.0067, -0.1521,  0.1563,  0.0945,  0.1723, -0.1476, -0.0601],\n",
            "        [-0.1413,  0.0295,  0.1084,  0.1012,  0.0091, -0.1308, -0.0249, -0.1993,\n",
            "          0.1635, -0.0620,  0.0458, -0.0604, -0.0605, -0.0989, -0.0691,  0.1689,\n",
            "          0.0331,  0.0742, -0.0733,  0.0518, -0.2130, -0.1544, -0.0264,  0.0510,\n",
            "         -0.1579, -0.0744, -0.0741, -0.1217, -0.1186,  0.0728,  0.0321, -0.1294]],\n",
            "       requires_grad=True)\n",
            "Parameter 7:\n",
            "tensor([ 0.0178, -0.0415, -0.0407, -0.0100,  0.0650,  0.1855, -0.0443,  0.0597,\n",
            "        -0.1573,  0.1113, -0.0177,  0.1343, -0.1146, -0.0428, -0.0616,  0.1837],\n",
            "       requires_grad=True)\n",
            "Parameter 8:\n",
            "tensor([[ 0.2421,  0.2180,  0.0668, -0.1251,  0.2110,  0.1032, -0.1961, -0.2172,\n",
            "         -0.2148, -0.2324, -0.2063, -0.2475, -0.2014,  0.1376, -0.0907,  0.0953],\n",
            "        [ 0.0684,  0.2019,  0.2189,  0.0104,  0.2345,  0.1224,  0.2218, -0.2130,\n",
            "          0.0027, -0.2496, -0.0147, -0.2466,  0.1231,  0.1828,  0.1724,  0.2023],\n",
            "        [-0.2192,  0.1243, -0.0229, -0.3538, -0.1373,  0.2194, -0.4170, -0.2613,\n",
            "         -0.0377, -0.2082, -0.0619, -0.1279,  0.2177,  0.0941,  0.0760,  0.1165],\n",
            "        [ 0.1860, -0.0372, -0.0504, -0.2179, -0.2329,  0.1213,  0.1317,  0.1681,\n",
            "         -0.2039, -0.2164, -0.2098, -0.1182, -0.1170, -0.2268, -0.0115,  0.0066],\n",
            "        [ 0.0965, -0.0547,  0.1155, -0.1636, -0.0275, -0.0595,  0.2285, -0.0737,\n",
            "          0.1927,  0.0074,  0.1378, -0.1400, -0.1182,  0.0112, -0.1566,  0.0319],\n",
            "        [-0.0938,  0.1361, -0.1384, -0.2349,  0.2081,  0.1396, -0.1614,  0.1199,\n",
            "          0.2079,  0.1345, -0.0411, -0.0019,  0.1637, -0.2062, -0.0067, -0.0993],\n",
            "        [-0.1586,  0.1971,  0.0241,  0.3805, -0.0902, -0.1049,  0.3266,  0.1634,\n",
            "         -0.0418,  0.1566,  0.2712,  0.3590,  0.1510, -0.1797, -0.1137, -0.2425],\n",
            "        [ 0.2610, -0.2054, -0.1533,  0.1384,  0.0503, -0.2193,  0.2462,  0.0998,\n",
            "          0.0618,  0.1153,  0.1066,  0.2597, -0.2148,  0.1112, -0.1793, -0.1534]],\n",
            "       requires_grad=True)\n",
            "Parameter 9:\n",
            "tensor([-0.1771, -0.1725,  0.4310, -0.1565,  0.0013,  0.2275, -0.0261,  0.0365],\n",
            "       requires_grad=True)\n",
            "Parameter 10:\n",
            "tensor([[-0.2901,  0.2523,  0.6851, -0.0184,  0.2041,  0.3748, -0.6134, -0.3627]],\n",
            "       requires_grad=True)\n",
            "Parameter 11:\n",
            "tensor([0.5717], requires_grad=True)\n"
          ]
        }
      ]
    },
    {
      "cell_type": "code",
      "source": [],
      "metadata": {
        "id": "NuGn-Roy2BSx"
      },
      "execution_count": null,
      "outputs": []
    },
    {
      "cell_type": "code",
      "source": [
        "x_transfer.iloc[:500].values\n",
        "tendata = torch.from_numpy(x_transfer.iloc[:100].values)"
      ],
      "metadata": {
        "id": "sUVMXUK0BThL"
      },
      "execution_count": 65,
      "outputs": []
    },
    {
      "cell_type": "code",
      "source": [
        "import shap\n",
        "import torch\n",
        "import numpy as np\n",
        "\n",
        "# Torch Script形式で読み込み\n",
        "model_from_scripted = torch.jit.load('model_scripted.pth', map_location=\"cpu\")\n",
        "\n",
        "#npdata = np.random.randn(100, 8).astype(np.float32)\n",
        "#tendata = torch.from_numpy(npdata)\n",
        "\n",
        "\n",
        "# SHAPのExplainerを作成\n",
        "def model_forward(x):\n",
        "    x_tensor = torch.tensor(x, dtype=torch.float32)\n",
        "    return model_from_scripted.forward(x_tensor).detach().numpy()\n",
        "\n",
        "explainer = shap.KernelExplainer(model_forward, tendata.numpy())\n",
        "\n",
        "# SHAP値の計算\n",
        "shap_values = explainer.shap_values(tendata.numpy())\n",
        "\n",
        "# SHAP値のプロット\n",
        "shap.summary_plot(shap_values, tendata.numpy())\n"
      ],
      "metadata": {
        "colab": {
          "base_uri": "https://localhost:8080/",
          "height": 729,
          "referenced_widgets": [
            "270b470683744b98a1461319dc0d9058",
            "08be54d70b634fe58db6819feea7a931",
            "69f22d02e9044793b9f0dc235575e0cd",
            "407f3704222e4fef9fd9d15bbc010595",
            "bbfd3479400348baaf7bb277da92bbf0",
            "0d76b6080efc4471bf133ce131e57e9c",
            "68c2092665af44c69c9abc8d44a0b8d1",
            "1a63040f31e24e8d8d503da78debe246",
            "6700894a3f2846439bb1da9e14c38daf",
            "b78607b1f29145d3b62e3b675ed0f383",
            "2e9a23b17a7f4febbd27dd277e22bcd0"
          ]
        },
        "id": "xayM7291AFco",
        "outputId": "c1a5c8de-44a3-4340-de82-df303fe7d530"
      },
      "execution_count": 66,
      "outputs": [
        {
          "output_type": "display_data",
          "data": {
            "text/plain": [
              "  0%|          | 0/100 [00:00<?, ?it/s]"
            ],
            "application/vnd.jupyter.widget-view+json": {
              "version_major": 2,
              "version_minor": 0,
              "model_id": "270b470683744b98a1461319dc0d9058"
            }
          },
          "metadata": {}
        },
        {
          "output_type": "display_data",
          "data": {
            "text/plain": [
              "<Figure size 1150x660 with 1 Axes>"
            ],
            "image/png": "[encoded data removed]"
          },
          "metadata": {}
        }
      ]
    },
    {
      "cell_type": "code",
      "source": [
        "shap.summary_plot(shap_values, X)\n"
      ],
      "metadata": {
        "colab": {
          "base_uri": "https://localhost:8080/",
          "height": 697
        },
        "id": "_afQKvY02BL4",
        "outputId": "3c25d5cd-f33a-4ef3-f696-0f91b30e19d5"
      },
      "execution_count": 73,
      "outputs": [
        {
          "output_type": "display_data",
          "data": {
            "text/plain": [
              "<Figure size 1150x660 with 1 Axes>"
            ],
            "image/png": "[encoded data removed]"
          },
          "metadata": {}
        }
      ]
    },
    {
      "cell_type": "code",
      "source": [],
      "metadata": {
        "id": "Z_27Vk6y2BFR"
      },
      "execution_count": null,
      "outputs": []
    },
    {
      "cell_type": "code",
      "source": [],
      "metadata": {
        "id": "TEvqmc9M2A-n"
      },
      "execution_count": null,
      "outputs": []
    },
    {
      "cell_type": "markdown",
      "source": [
        "\n",
        "### TIPS\n",
        "モデルの読み込み\n",
        "~~~python\n",
        "# Torch Script形式で保存\n",
        "model_scripted = torch.jit.script(model)\n",
        "model_scripted.save('model_scripted.pth')\n",
        "\n",
        "# Torch Script形式で読み込み\n",
        "model_from_scripted = torch.jit.load('model_scripted.pth',map_location=\"cpu\")\n",
        "~~~"
      ],
      "metadata": {
        "id": "pefc2m9_XRHv"
      }
    },
    {
      "cell_type": "code",
      "source": [
        "# 新規データのTensorに変換\n",
        "x_transfer = torch.FloatTensor(x_transfer.values)\n",
        "y_transfer = torch.FloatTensor(y_transfer.values)"
      ],
      "metadata": {
        "id": "pRwqR3IhXd0O"
      },
      "execution_count": null,
      "outputs": []
    },
    {
      "cell_type": "markdown",
      "source": [
        "# Fine-Tuning"
      ],
      "metadata": {
        "id": "tXH7Sz3Ab_QQ"
      }
    },
    {
      "cell_type": "code",
      "source": [
        "print(model_from_scripted)"
      ],
      "metadata": {
        "id": "dPnX7j6WYaGl"
      },
      "execution_count": null,
      "outputs": []
    },
    {
      "cell_type": "code",
      "source": [
        "# 重みを貼り付ける新モデルの定義\n",
        "class reMLP(nn.Module):\n",
        "    def __init__(self):\n",
        "        super().__init__()\n",
        "        self.regression = nn.Sequential(\n",
        "            nn.Linear(8, 128),\n",
        "            nn.ReLU(inplace=True),\n",
        "            nn.Linear(128, 64),\n",
        "            nn.ReLU(inplace=True),\n",
        "            nn.Linear(64, 32),\n",
        "            nn.ReLU(inplace=True),\n",
        "            nn.Linear(32, 16),\n",
        "            nn.ReLU(inplace=True),\n",
        "            nn.Linear(16, 16), #　ここを変える\n",
        "            nn.ReLU(inplace=True),\n",
        "            nn.Linear(16, 1)\n",
        "        )\n",
        "\n",
        "    def forward(self, x):\n",
        "        output = self.regression(x)\n",
        "        return output"
      ],
      "metadata": {
        "id": "1IbmzOMUkw57"
      },
      "execution_count": null,
      "outputs": []
    },
    {
      "cell_type": "code",
      "source": [
        "remodel = reMLP().to(device)"
      ],
      "metadata": {
        "id": "lQjZvQQWlK2J"
      },
      "execution_count": null,
      "outputs": []
    },
    {
      "cell_type": "markdown",
      "source": [
        "隠れ層の1層目から3層目の重みを転移し、それらの層をフリーズする"
      ],
      "metadata": {
        "id": "CrPxoXdErbK-"
      }
    },
    {
      "cell_type": "code",
      "source": [
        "def transfer_weights(premodel,newmodel,start_layer,end_layer):\n",
        "  premodel_state_dict = premodel.state_dict()\n",
        "  newmodel_state_dict = newmodel.state_dict()\n",
        "  #\n",
        "  for i in range(start_layer,end_layer+1):\n",
        "    newmodel_state_dict[f'regression.{i*2}.weight'] = premodel_state_dict[f'regression.{i*2}.weight']\n",
        "    newmodel_state_dict[f'regression.{i*2}.bias'] = premodel_state_dict[f'regression.{i*2}.bias']\n",
        "  #\n",
        "  newmodel.load_state_dict(newmodel_state_dict)\n",
        "\n",
        "# Transfer weights from layer 0 to 2 (layer 1 to 3)\n",
        "transfer_weights(model_from_scripted, remodel,start_layer = 0, end_layer = 2 )"
      ],
      "metadata": {
        "id": "k_4efdC8lPVZ"
      },
      "execution_count": null,
      "outputs": []
    },
    {
      "cell_type": "code",
      "source": [
        "def freeze_layer(model,start_layer,end_layer):\n",
        "  for i in range(start_layer, end_layer+1):\n",
        "    for param in model.regression[i*2].parameters():\n",
        "      param.requires_grad = False\n",
        "#\n",
        "freeze_layer(remodel,start_layer = 0, end_layer = 2)"
      ],
      "metadata": {
        "id": "3aWkv6rdn1LL"
      },
      "execution_count": null,
      "outputs": []
    },
    {
      "cell_type": "code",
      "source": [
        "trans_dataset = TensorDataset(x_transfer, y_transfer)\n",
        "trans_dataloader = DataLoader(trans_dataset, batch_size=10, shuffle=True)\n",
        "#valdataset = TensorDataset(val_x, val_y)\n",
        "#valdataloader = DataLoader(valdataset, batch_size=10, shuffle=True)\n",
        "\n",
        "criterion = nn.MSELoss()\n",
        "optimizer = optim.SGD(remodel.parameters(), lr=0.01)\n",
        "\n",
        "# トレーニングループ\n",
        "num_epochs = 200\n",
        "train_losses = []  # トレーニングの損失を保存するリスト\n",
        "val_losses = []    # 検証の損失を保存するリスト\n",
        "\n",
        "for epoch in range(num_epochs):\n",
        "    remodel.train()  # モデルをトレーニングモードに切り替え\n",
        "    for batch_x, batch_y in trans_dataloader:\n",
        "        batch_x, batch_y = batch_x.to(device), batch_y.to(device)\n",
        "        optimizer.zero_grad()\n",
        "        output = remodel(batch_x)\n",
        "        loss = criterion(output, batch_y)\n",
        "        loss.backward()\n",
        "        optimizer.step()\n",
        "    train_losses.append(loss.item())\n",
        "\n",
        "    # 10エポックごとに損失を表示\n",
        "    if (epoch + 1) % 10 == 0:\n",
        "        print(f'Training - Epoch [{epoch+1}/{num_epochs}], Loss: {loss.item():.4f}')\n",
        "\n",
        "    # 検証ループ\n",
        "    remodel.eval()  # モデルを評価モードに切り替え\n",
        "    with torch.no_grad():\n",
        "        val_loss = 0\n",
        "        for val_batch_x, val_batch_y in valdataloader:\n",
        "            val_batch_x, val_batch_y = val_batch_x.to(device), val_batch_y.to(device)\n",
        "            val_output = remodel(val_batch_x)\n",
        "            val_loss += criterion(val_output, val_batch_y).item()\n",
        "        val_loss /= len(valdataloader)\n",
        "        val_losses.append(val_loss)\n",
        "\n",
        "        # 10エポックごとに検証の損失を表示\n",
        "        if (epoch + 1) % 10 == 0:\n",
        "            print(f'Validation - Epoch [{epoch+1}/{num_epochs}], Loss: {val_loss:.4f}')\n",
        "\n",
        "# TrainとValのLossをプロット\n",
        "plt.plot(train_losses, label='Training Loss')\n",
        "plt.plot(val_losses, label='Validation Loss')\n",
        "plt.xlabel('Epoch')\n",
        "plt.ylabel('Loss')\n",
        "plt.legend()\n",
        "plt.show()"
      ],
      "metadata": {
        "id": "cUgg_u7FcDVK"
      },
      "execution_count": null,
      "outputs": []
    },
    {
      "cell_type": "code",
      "source": [
        "# モデルを評価モードに切り替え\n",
        "remodel.eval()\n",
        "\n",
        "# 予測\n",
        "x_un = x_un.to(device)\n",
        "predicted_output = remodel(x_un)\n",
        "pre_result = predicted_output.cpu().detach().numpy()\n",
        "\n",
        "# RMSEの計算\n",
        "rmse = np.sqrt(mean_squared_error(y_un, pre_result))\n",
        "print(f'RMSE: {rmse}')\n",
        "\n",
        "# 散布図のプロット\n",
        "plt.scatter(y_un, pre_result, alpha=0.5)\n",
        "plt.title('Scatter plot of Actual vs Predicted')\n",
        "plt.xlabel('Actual values')\n",
        "plt.ylabel('Predicted values')\n",
        "plt.show()"
      ],
      "metadata": {
        "id": "4d437N6odHd9"
      },
      "execution_count": null,
      "outputs": []
    },
    {
      "cell_type": "markdown",
      "source": [
        "SHAP"
      ],
      "metadata": {
        "id": "ie4gpj3x3QNQ"
      }
    },
    {
      "cell_type": "code",
      "source": [
        "!pip install shap"
      ],
      "metadata": {
        "id": "UfPngX7A3SvP"
      },
      "execution_count": null,
      "outputs": []
    },
    {
      "cell_type": "code",
      "source": [
        "import torch\n",
        "import shap\n",
        "import numpy as np\n",
        "\n",
        "# Torch Script形式で読み込み\n",
        "model_from_scripted = torch.jit.load('model_scripted.pth',map_location=\"cpu\")\n",
        "\n",
        "\n",
        "# ダミーデータの作成\n",
        "train_x = np.random.randn(10, 8)\n",
        "\n",
        "# SHAPのExplainerを定義（KernelExplainerを使用）\n",
        "def model_predict(inputs):\n",
        "    inputs = torch.tensor(inputs, dtype=torch.float32).to('cpu')  # 入力をCPUに配置\n",
        "    with torch.no_grad():\n",
        "        predictions = model_from_scripted(inputs)\n",
        "    return predictions.numpy()  # NumPy配列を返す\n",
        "\n",
        "# SHAP用にNumPy配列を使用\n",
        "explainer = shap.KernelExplainer(model_predict, shap.kmeans(train_x, 10))\n",
        "shap_values = explainer.shap_values(train_x)\n",
        "\n",
        "# SHAP値を表示\n",
        "#print(shap_values)\n",
        "\n",
        "\n",
        "# SHAP値を集計して重みごとに重要性を算出\n",
        "weight_importance = np.mean(np.abs(shap_values), axis=0)\n",
        "\n",
        "def freeze_top_weights_by_shap(model, weight_importance, freeze_ratio=0.3):\n",
        "    all_params = [(name, param) for name, param in model.named_parameters() if 'weight' in name]\n",
        "\n",
        "    # SHAP値の重要度に基づいてパラメータをソート\n",
        "    sorted_params = sorted(all_params, key=lambda x: weight_importance[x[0]], reverse=True)\n",
        "\n",
        "    # 凍結するパラメータの数を計算\n",
        "    num_params_to_freeze = int(len(sorted_params) * freeze_ratio)\n",
        "\n",
        "    # 凍結するパラメータを選択し、requires_gradをFalseに設定\n",
        "    for name, param in sorted_params[:num_params_to_freeze]:\n",
        "        param.requires_grad = False\n",
        "        print(f\"Freezing parameter: {name}\")\n",
        "\n",
        "    # 凍結されていないパラメータを確認\n",
        "    for name, param in sorted_params[num_params_to_freeze:]:\n",
        "        param.requires_grad = True\n",
        "        print(f\"Training parameter: {name}\")\n",
        "\n",
        "# 凍結関数を適用\n",
        "freeze_top_weights_by_shap(model_from_scripted, weight_importance, freeze_ratio=0.3)\n",
        "\n",
        "'''\n",
        "import torch.optim as optim\n",
        "import torch.nn as nn\n",
        "from torch.utils.data import DataLoader, TensorDataset\n",
        "\n",
        "# ダミーデータセットの作成\n",
        "y_train = torch.randn(100, 1)\n",
        "dataset = TensorDataset(x_train, y_train)\n",
        "dataloader = DataLoader(dataset, batch_size=10, shuffle=True)\n",
        "\n",
        "# ロス関数とオプティマイザの設定\n",
        "criterion = nn.MSELoss()\n",
        "optimizer = optim.Adam(filter(lambda p: p.requires_grad, model.parameters()), lr=0.001)\n",
        "'''"
      ],
      "metadata": {
        "id": "TjJpAWUvdfVR"
      },
      "execution_count": null,
      "outputs": []
    },
    {
      "cell_type": "code",
      "source": [
        "import torch\n",
        "import shap\n",
        "import numpy as np\n",
        "\n",
        "# Torch Script形式で読み込み\n",
        "model_from_scripted = torch.jit.load('model_scripted.pth', map_location=\"cpu\")\n",
        "\n",
        "# ダミーデータの作成　(データ数、入力因子)\n",
        "train_x = np.random.randn(100, 8)\n",
        "\n",
        "# SHAPのExplainerを定義（KernelExplainerを使用）\n",
        "def model_predict(inputs):\n",
        "    inputs = torch.tensor(inputs, dtype=torch.float32).to('cpu')  # 入力をCPUに配置\n",
        "    with torch.no_grad():\n",
        "        predictions = model_from_scripted(inputs)\n",
        "    return predictions.numpy()  # NumPy配列を返す\n",
        "\n",
        "# SHAP用にNumPy配列を使用 (train_x,データ数)\n",
        "explainer = shap.KernelExplainer(model_predict, shap.kmeans(train_x, 100))\n",
        "shap_values = explainer.shap_values(train_x)\n",
        "\n",
        "# SHAP値を表示\n",
        "# print(shap_values)\n",
        "\n",
        "# SHAP値を集計して重みごとに重要性を算出\n",
        "weight_importance = np.mean(np.abs(shap_values), axis=0)\n",
        "\n",
        "# weight_importance を辞書形式でパラメータ名と対応付ける\n",
        "param_names = [name for name, param in model_from_scripted.named_parameters() if 'weight' in name]\n",
        "weight_importance_dict = {name: weight_importance[i] for i, name in enumerate(param_names)}\n",
        "\n",
        "def freeze_top_weights_by_shap(model, weight_importance_dict, freeze_ratio=0.3):\n",
        "    all_params = [(name, param) for name, param in model.named_parameters() if 'weight' in name]\n",
        "\n",
        "    # SHAP値の重要度に基づいてパラメータをソート\n",
        "    sorted_params = sorted(all_params, key=lambda x: weight_importance_dict.get(x[0], 0), reverse=True)\n",
        "\n",
        "    # 凍結するパラメータの数を計算\n",
        "    num_params_to_freeze = int(len(sorted_params) * freeze_ratio)\n",
        "\n",
        "    # 凍結するパラメータを選択し、requires_gradをFalseに設定\n",
        "    for name, param in sorted_params[:num_params_to_freeze]:\n",
        "        param.requires_grad = False\n",
        "        print(f\"Freezing parameter: {name}\")\n",
        "\n",
        "    # 凍結されていないパラメータを確認\n",
        "    for name, param in sorted_params[num_params_to_freeze:]:\n",
        "        param.requires_grad = True\n",
        "        print(f\"Training parameter: {name}\")\n",
        "\n",
        "# 凍結関数を適用\n",
        "freeze_top_weights_by_shap(model_from_scripted, weight_importance_dict, freeze_ratio=0.3)\n"
      ],
      "metadata": {
        "id": "HXOw9auJ2_SJ"
      },
      "execution_count": null,
      "outputs": []
    },
    {
      "cell_type": "code",
      "source": [
        "import torch\n",
        "import shap\n",
        "import numpy as np\n",
        "\n",
        "# Torch Script形式で読み込み\n",
        "model_from_scripted = torch.jit.load('model_scripted.pth', map_location=\"cpu\")\n",
        "\n",
        "# ダミーデータの作成\n",
        "train_x = np.random.randn(10, 8)\n",
        "\n",
        "# SHAPのExplainerを定義（KernelExplainerを使用）\n",
        "def model_predict(inputs):\n",
        "    inputs = torch.tensor(inputs, dtype=torch.float32).to('cpu')  # 入力をCPUに配置\n",
        "    with torch.no_grad():\n",
        "        predictions = model_from_scripted(inputs)\n",
        "    return predictions.numpy()  # NumPy配列を返す\n",
        "\n",
        "# SHAP用にNumPy配列を使用\n",
        "explainer = shap.KernelExplainer(model_predict, shap.kmeans(train_x, 10))\n",
        "shap_values = explainer.shap_values(train_x)\n",
        "\n",
        "# SHAP値を表示\n",
        "# print(shap_values)\n",
        "\n",
        "# SHAP値を集計して重みごとに重要性を算出\n",
        "weight_importance = np.mean(np.abs(shap_values), axis=0)\n",
        "\n",
        "# weight_importance を辞書形式でパラメータ名と対応付ける\n",
        "param_names = [name for name, param in model_from_scripted.named_parameters() if 'weight' in name]\n",
        "weight_importance_dict = {name: weight_importance[i] for i, name in enumerate(param_names)}\n",
        "\n",
        "def freeze_top_weights_by_shap(model, weight_importance_dict, freeze_ratio=0.3):\n",
        "    for name, param in model.named_parameters():\n",
        "        if 'weight' in name:\n",
        "            # パラメータの重みを取り出し、重要度順にソート\n",
        "            param_importance = weight_importance_dict.get(name, np.zeros(param.shape))\n",
        "            sorted_indices = np.argsort(-param_importance)  # 降順にソート\n",
        "            num_weights_to_freeze = int(param.numel() * freeze_ratio)  # 凍結する重みの数\n",
        "\n",
        "            # 重みをテンソルとしてコピーし、重要度の高い部分を凍結\n",
        "            for idx in sorted_indices[:num_weights_to_freeze]:\n",
        "                param.data.view(-1)[idx] = param.data.view(-1)[idx]\n",
        "                param.requires_grad = False\n",
        "                print(f\"Freezing weight index: {idx} in parameter: {name}\")\n",
        "\n",
        "    # 凍結されていないパラメータを確認\n",
        "    for name, param in model.named_parameters():\n",
        "        if param.requires_grad:\n",
        "            print(f\"Training parameter: {name}\")\n",
        "\n",
        "# 凍結関数を適用\n",
        "freeze_top_weights_by_shap(model_from_scripted, weight_importance_dict, freeze_ratio=0.3)\n"
      ],
      "metadata": {
        "id": "UxSQnE_Q8QLR"
      },
      "execution_count": null,
      "outputs": []
    },
    {
      "cell_type": "code",
      "source": [
        "import torch\n",
        "import shap\n",
        "import numpy as np\n",
        "\n",
        "# Torch Script形式で読み込み\n",
        "model_from_scripted = torch.jit.load('model_scripted.pth', map_location=\"cpu\")\n",
        "\n",
        "# ダミーデータの作成\n",
        "train_x = np.random.randn(10, 8)\n",
        "\n",
        "# SHAPのExplainerを定義（KernelExplainerを使用）\n",
        "def model_predict(inputs):\n",
        "    inputs = torch.tensor(inputs, dtype=torch.float32).to('cpu')  # 入力をCPUに配置\n",
        "    with torch.no_grad():\n",
        "        predictions = model_from_scripted(inputs)\n",
        "    return predictions.numpy()  # NumPy配列を返す\n",
        "\n",
        "# SHAP用にNumPy配列を使用\n",
        "explainer = shap.KernelExplainer(model_predict, shap.kmeans(train_x, 10))\n",
        "shap_values = explainer.shap_values(train_x)\n",
        "\n",
        "# SHAP値を集計してニューロンごとに重要性を算出\n",
        "layer_importance = np.mean(np.abs(shap_values), axis=0)\n",
        "\n",
        "def freeze_specific_neuron(model, layer_name, neuron_index):\n",
        "    # 特定の層のパラメータを取得\n",
        "    for name, param in model.named_parameters():\n",
        "        if name == layer_name:\n",
        "            # パラメータの形状を取得\n",
        "            weight_shape = param.shape\n",
        "            if len(weight_shape) == 2:  # 全結合層 (Linear) を仮定\n",
        "                # 特定のニューロンの重みを凍結\n",
        "                with torch.no_grad():\n",
        "                    param[:, neuron_index] = param[:, neuron_index]\n",
        "                param.requires_grad = False\n",
        "                print(f\"Freezing neuron index: {neuron_index} in layer: {layer_name}\")\n",
        "\n",
        "# 凍結関数を適用\n",
        "# 例: 2層目（仮に 'layer2.weight' とする）の3番目のニューロンを凍結\n",
        "freeze_specific_neuron(model_from_scripted, 'regression.1.weight', 2)\n"
      ],
      "metadata": {
        "id": "Dw5WXO5E83qH"
      },
      "execution_count": null,
      "outputs": []
    },
    {
      "cell_type": "markdown",
      "source": [
        "# Tensorflowで記述した場合"
      ],
      "metadata": {
        "id": "baFMU8rchPKH"
      }
    },
    {
      "cell_type": "code",
      "source": [
        "import tensorflow as tf\n",
        "from tensorflow.keras import layers, models, optimizers\n",
        "import numpy as np\n",
        "import matplotlib.pyplot as plt\n",
        "\n",
        "# ランダムシードの設定\n",
        "fix_seed = 2024\n",
        "np.random.seed(fix_seed)\n",
        "# TensorFlowのランダムシードの固定\n",
        "tf.random.set_seed(fix_seed)\n",
        "\n",
        "# モデルの定義\n",
        "class MLP(tf.keras.Model):\n",
        "    def __init__(self):\n",
        "        super(MLP, self).__init__()\n",
        "        self.regression = models.Sequential([\n",
        "            layers.Dense(128, activation='relu'),\n",
        "            layers.Dense(64, activation='relu'),\n",
        "            layers.Dense(32, activation='relu'),\n",
        "            layers.Dense(16, activation='relu'),\n",
        "            layers.Dense(8, activation='relu'),\n",
        "            layers.Dense(1)\n",
        "        ])\n",
        "\n",
        "    def call(self, x):\n",
        "        return self.regression(x)\n",
        "\n",
        "# GPU上でモデルを構築\n",
        "with tf.device('/GPU:0'):\n",
        "    model_tf = MLP()\n",
        "\n",
        "# モデル、損失関数、オプティマイザの初期化\n",
        "criterion = tf.keras.losses.MeanSquaredError()\n",
        "optimizer = optimizers.SGD(learning_rate=0.01)\n",
        "\n",
        "# データセットの作成\n",
        "train_dataset = tf.data.Dataset.from_tensor_slices((train_x, train_y))\n",
        "train_dataset = train_dataset.shuffle(buffer_size=len(train_x)).batch(10)\n",
        "val_dataset = tf.data.Dataset.from_tensor_slices((val_x, val_y)).batch(10)\n",
        "\n",
        "# モデルのコンパイル\n",
        "model_tf.compile(optimizer=optimizer, loss=criterion)\n",
        "\n",
        "# トレーニング\n",
        "hist = model_tf.fit(train_dataset,\n",
        "                    epochs=100,\n",
        "                    validation_data=val_dataset,\n",
        "                    verbose=1)\n",
        "\n",
        "# トレーニングと検証の損失履歴を取得\n",
        "train_losses = hist.history['loss']\n",
        "val_losses = hist.history['val_loss']\n",
        "\n",
        "# TrainとValのLossをプロット\n",
        "plt.plot(train_losses, label='Training Loss')\n",
        "plt.plot(val_losses, label='Validation Loss')\n",
        "plt.xlabel('Epoch')\n",
        "plt.ylabel('Loss')\n",
        "plt.legend()\n",
        "plt.show()\n"
      ],
      "metadata": {
        "id": "c_A8lrTuzpMQ"
      },
      "execution_count": null,
      "outputs": []
    },
    {
      "cell_type": "markdown",
      "source": [
        "# Tensorflowでの推論"
      ],
      "metadata": {
        "id": "UfPCJn0Chr8q"
      }
    },
    {
      "cell_type": "code",
      "source": [
        "import tensorflow as tf\n",
        "import numpy as np\n",
        "from sklearn.metrics import mean_squared_error\n",
        "import matplotlib.pyplot as plt\n",
        "\n",
        "# 未知データをテンソルに変換\n",
        "x_un_tf = tf.constant(x_unknown.values, dtype=tf.float32)\n",
        "y_un_tf = tf.constant(y_unknown.values, dtype=tf.float32)\n",
        "\n",
        "\n",
        "# TensorFlowモデルの予測\n",
        "predicted_output_tf = model_tf(x_un_tf, training=False)\n",
        "pre_result_tf = predicted_output_tf.numpy()\n",
        "\n",
        "# RMSEの計算\n",
        "rmse_tf = np.sqrt(mean_squared_error(y_un_tf, pre_result_tf))\n",
        "print(f'RMSE: {rmse_tf}')\n",
        "\n",
        "# 散布図のプロット\n",
        "plt.scatter(y_un_tf, pre_result_tf, alpha=0.5)\n",
        "plt.title('Scatter plot of Actual vs Predicted')\n",
        "plt.xlabel('Actual values')\n",
        "plt.ylabel('Predicted values')\n",
        "plt.show()"
      ],
      "metadata": {
        "id": "_jMRwLCezvME"
      },
      "execution_count": null,
      "outputs": []
    },
    {
      "cell_type": "code",
      "source": [
        "from tensorflow.keras.models import Sequential\n",
        "from tensorflow.keras.layers import Dense\n",
        "# モデルを保存\n",
        "model_tf.save('my_tf_mlp_model')"
      ],
      "metadata": {
        "id": "b4JXIm7X0aaX"
      },
      "execution_count": null,
      "outputs": []
    },
    {
      "cell_type": "code",
      "source": [
        "x_transfer2 = tf.constant(x_transfer2.values, dtype=tf.float32)\n",
        "y_transfer2 = tf.constant(y_transfer2.values, dtype=tf.float32)\n",
        "transfer_train_dataset = tf.data.Dataset.from_tensor_slices((x_transfer2, y_transfer2))\n",
        "transfer_train_dataset = transfer_train_dataset.shuffle(buffer_size=len(x_transfer2)).batch(10)"
      ],
      "metadata": {
        "id": "yP12Q8022bN6"
      },
      "execution_count": null,
      "outputs": []
    },
    {
      "cell_type": "code",
      "source": [
        "# モデルの定義\n",
        "class reMLP(tf.keras.Model):\n",
        "    def __init__(self):\n",
        "        super(reMLP, self).__init__()\n",
        "        self.regression = models.Sequential([\n",
        "            layers.Dense(128, activation='relu'),\n",
        "            layers.Dense(64, activation='relu'),\n",
        "            layers.Dense(32, activation='relu'),\n",
        "            layers.Dense(16, activation='relu'),\n",
        "            layers.Dense(16, activation='relu'),  # 追加\n",
        "            layers.Dense(1)\n",
        "        ])\n",
        "\n",
        "# モデルのインスタンスを作成\n",
        "re_mlp_model = reMLP()\n",
        "\n",
        "# 事前学習済みモデルのロードなどがあればここで行う\n",
        "re_mlp_model = tf.keras.models.load_model('my_tf_mlp_model')\n",
        "\n",
        "# モデル、損失関数、オプティマイザの初期化\n",
        "criterion = tf.keras.losses.MeanSquaredError()\n",
        "optimizer = optimizers.SGD(learning_rate=0.01)\n",
        "# モデルのコンパイル\n",
        "re_mlp_model.compile(optimizer=optimizer, loss=criterion)\n",
        "\n",
        "# Fine-tuningしたい層のインデックスを取得\n",
        "fine_tune_from = -3  # 最後から3つの層をFine-tuning\n",
        "\n",
        "# ファインチューニングのために指定した層より前は凍結\n",
        "for layer in re_mlp_model.regression.layers[:fine_tune_from]:\n",
        "    layer.trainable = False\n",
        "\n",
        "# モデルのコンパイル\n",
        "re_mlp_model.compile(optimizer=optimizer, loss=criterion)\n",
        "\n",
        "# トレーニング\n",
        "hist2 = re_mlp_model.fit(transfer_train_dataset,\n",
        "                    epochs=100,\n",
        "                    validation_data=val_dataset,\n",
        "                    verbose=1)\n",
        "\n",
        "# トレーニングと検証の損失履歴を取得\n",
        "train_losses2 = hist2.history['loss']\n",
        "val_losses2 = hist2.history['val_loss']\n",
        "\n",
        "# TrainとValのLossをプロット\n",
        "plt.plot(train_losses2, label='Training Loss')\n",
        "plt.plot(val_losses2, label='Validation Loss')\n",
        "plt.xlabel('Epoch')\n",
        "plt.ylabel('Loss')\n",
        "plt.legend()\n",
        "plt.show()"
      ],
      "metadata": {
        "id": "KQiT1-HI0bjm"
      },
      "execution_count": null,
      "outputs": []
    },
    {
      "cell_type": "code",
      "source": [
        "import tensorflow as tf\n",
        "import numpy as np\n",
        "from sklearn.metrics import mean_squared_error\n",
        "import matplotlib.pyplot as plt\n",
        "\n",
        "# 未知データをテンソルに変換\n",
        "x_un_tf = tf.constant(x_unknown.values, dtype=tf.float32)\n",
        "y_un_tf = tf.constant(y_unknown.values, dtype=tf.float32)\n",
        "\n",
        "\n",
        "# TensorFlowモデルの予測\n",
        "predicted_output_tf = re_mlp_model(x_un_tf, training=False)\n",
        "pre_result_tf = predicted_output_tf.numpy()\n",
        "\n",
        "# RMSEの計算\n",
        "rmse_tf = np.sqrt(mean_squared_error(y_un_tf, pre_result_tf))\n",
        "print(f'RMSE: {rmse_tf}')\n",
        "\n",
        "# 散布図のプロット\n",
        "plt.scatter(y_un_tf, pre_result_tf, alpha=0.5)\n",
        "plt.title('Scatter plot of Actual vs Predicted')\n",
        "plt.xlabel('Actual values')\n",
        "plt.ylabel('Predicted values')\n",
        "plt.show()"
      ],
      "metadata": {
        "id": "NoCZkOI712w1"
      },
      "execution_count": null,
      "outputs": []
    },
    {
      "cell_type": "code",
      "source": [],
      "metadata": {
        "id": "f3mLztgV7V2H"
      },
      "execution_count": null,
      "outputs": []
    }
  ]
}